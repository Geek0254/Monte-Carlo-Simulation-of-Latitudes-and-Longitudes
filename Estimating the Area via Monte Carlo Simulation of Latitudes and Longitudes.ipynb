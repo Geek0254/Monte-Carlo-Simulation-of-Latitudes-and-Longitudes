{
 "cells": [
  {
   "cell_type": "code",
   "execution_count": 1,
   "id": "147db32c",
   "metadata": {},
   "outputs": [],
   "source": [
    "import geopandas as gpd\n",
    "import random\n",
    "from shapely.geometry import Point, Polygon\n",
    "import numpy as np\n",
    "import os\n",
    "import zipfile\n",
    "from math import pi, sin, cos, sqrt\n",
    "from urllib.request import urlretrieve\n",
    "import matplotlib.pyplot as plt"
   ]
  },
  {
   "cell_type": "markdown",
   "id": "e85b3e0d",
   "metadata": {},
   "source": [
    "# FUNCTION TO CALCULATE THE AREA OF COUNTRIES WITH SMALL SIZES USING THE GADM ISO NAMING CODES"
   ]
  },
  {
   "cell_type": "code",
   "execution_count": 2,
   "id": "2934a72d",
   "metadata": {},
   "outputs": [],
   "source": [
    "# Define constants\n",
    "MIN_SAMPLE_POINTS = 10\n",
    "MAX_SAMPLE_POINTS = 100\n",
    "THRESHOLD_AREA = 1e5  # km^2\n",
    "\n",
    "GADM_URL = 'https://geodata.ucdavis.edu/gadm/gadm4.1/shp/gadm41_{}_shp.zip'\n",
    "\n",
    "\n",
    "def get_country_shapefile(country_name):\n",
    "    \"\"\"Download and extract the shapefile for a given country.\"\"\"\n",
    "    country_code = country_name.upper()[:3]  # ISO 3166-1 alpha-3 code\n",
    "    url = GADM_URL.format(country_code)\n",
    "    filename = os.path.basename(url)\n",
    "    foldername = os.path.splitext(filename)[0]\n",
    "    if not os.path.exists(foldername):\n",
    "        print(f'Downloading {filename}...')\n",
    "        urlretrieve(url, filename)\n",
    "        print(f'Extracting {filename}...')\n",
    "        with zipfile.ZipFile(filename, 'r') as zip_ref:\n",
    "            zip_ref.extractall(foldername)\n",
    "    return foldername\n",
    "\n",
    "\n",
    "def get_land_area(polygons):\n",
    "    \"\"\"Calculate the land area of a GeoDataFrame of polygons.\"\"\"\n",
    "    projected = polygons.to_crs(epsg=3857)\n",
    "    return projected.geometry.area.sum() / 1e6  # km^2\n",
    "\n",
    "\n",
    "\n",
    "def generate_sample_points(polygons, num_points):\n",
    "    \"\"\"Generate random sample points within the bounds of a GeoDataFrame of polygons.\"\"\"\n",
    "    min_lon, min_lat, max_lon, max_lat = polygons.total_bounds\n",
    "    points = []\n",
    "    while len(points) < num_points:\n",
    "        lon, lat = random.uniform(min_lon, max_lon), random.uniform(min_lat, max_lat)\n",
    "        point = (lon, lat)\n",
    "        if polygons.contains(gpd.points_from_xy([lon], [lat])).any():\n",
    "            points.append(point)\n",
    "    return points\n",
    "\n",
    "\n",
    "def estimate_land_area(polygons):\n",
    "    \"\"\"Estimate the land area of a GeoDataFrame of polygons using the Monte Carlo method.\"\"\"\n",
    "    land_area = get_land_area(polygons)\n",
    "    if land_area < THRESHOLD_AREA:\n",
    "        return land_area  # Direct calculation for small areas\n",
    "    elif land_area < 10 * THRESHOLD_AREA:\n",
    "        num_points = MIN_SAMPLE_POINTS\n",
    "    else:\n",
    "        num_points = MAX_SAMPLE_POINTS\n",
    "    points = generate_sample_points(polygons, num_points)\n",
    "    land_points = sum(1 for lon, lat in points if polygons.contains(gpd.points_from_xy([lon], [lat])).any())\n",
    "    area_factor = land_points / num_points\n",
    "    return land_area / area_factor\n",
    "\n",
    "\n",
    "\n"
   ]
  },
  {
   "cell_type": "code",
   "execution_count": 3,
   "id": "33c01cba",
   "metadata": {},
   "outputs": [
    {
     "name": "stdout",
     "output_type": "stream",
     "text": [
      "Enter the name of a country: SYC\n",
      "The estimated land area of SYC is 502.28 km^2\n"
     ]
    },
    {
     "data": {
      "image/png": "[encoded data removed]",
      "text/plain": [
       "<Figure size 432x288 with 1 Axes>"
      ]
     },
     "metadata": {
      "needs_background": "light"
     },
     "output_type": "display_data"
    }
   ],
   "source": [
    "def main():\n",
    "    # Get country name input from user\n",
    "    country_name = input('Enter the name of a country: ')\n",
    "\n",
    "    # Download and extract shapefile for the country\n",
    "    foldername = get_country_shapefile(country_name)\n",
    "\n",
    "    # Read polygons from shapefile and calculate land area\n",
    "    polygons = gpd.read_file(foldername)\n",
    "    land_area = estimate_land_area(polygons)\n",
    "\n",
    "    # Display results\n",
    "    print(f'The estimated land area of {country_name} is {land_area:.2f} km^2')\n",
    "    ax = polygons.plot(alpha=0.5, edgecolor='black')\n",
    "    ax.set_title(country_name)\n",
    "    plt.show()\n",
    "\n",
    "\n",
    "if __name__ == '__main__':\n",
    "    main()"
   ]
  },
  {
   "cell_type": "code",
   "execution_count": null,
   "id": "5b2e6674",
   "metadata": {},
   "outputs": [],
   "source": []
  },
  {
   "cell_type": "markdown",
   "id": "e0166219",
   "metadata": {},
   "source": [
    "# FUNCTION TO CALCULATE THE AREA OF COUNTRIES WITH BOTH SMALL AND VERY LARGE SIZES USING THE GADM ISO NAMING CODES "
   ]
  },
  {
   "cell_type": "code",
   "execution_count": 4,
   "id": "8704f80e",
   "metadata": {},
   "outputs": [],
   "source": [
    "# Define constants\n",
    "MIN_SAMPLE_POINTS = 10\n",
    "MAX_SAMPLE_POINTS = 100\n",
    "THRESHOLD_AREA = 1e10  # km^2\n",
    "\n",
    "\n",
    "GADM_URL = 'https://geodata.ucdavis.edu/gadm/gadm4.1/shp/gadm41_{}_shp.zip'\n",
    "\n",
    "\n",
    "def get_country_shapefile(country_name):\n",
    "    \"\"\"Download and extract the shapefile for a given country.\"\"\"\n",
    "    country_code = country_name.upper()[:3]  # ISO 3166-1 alpha-3 code\n",
    "    url = GADM_URL.format(country_code)\n",
    "    filename = os.path.basename(url)\n",
    "    foldername = os.path.splitext(filename)[0]\n",
    "    if not os.path.exists(foldername):\n",
    "        print(f'Downloading {filename}...')\n",
    "        urlretrieve(url, filename)\n",
    "        print(f'Extracting {filename}...')\n",
    "        with zipfile.ZipFile(filename, 'r') as zip_ref:\n",
    "            zip_ref.extractall(foldername)\n",
    "    return foldername\n",
    "\n",
    "\n",
    "def great_circle_distance(lon1, lat1, lon2, lat2):\n",
    "    \"\"\"Calculate the great circle distance between two points on the surface of the sphere.\"\"\"\n",
    "    delta_lon = lon2 - lon1\n",
    "    cos_lat1 = cos(lat1)\n",
    "    sin_lat1 = sin(lat1)\n",
    "    cos_lat2 = cos(lat2)\n",
    "    sin_lat2 = sin(lat2)\n",
    "    delta_sigma = atan2(sqrt((cos_lat2 * sin(delta_lon)) ** 2 + (cos_lat1 * sin_lat2 - sin_lat1 * cos_lat2 * cos(delta_lon)) ** 2),\n",
    "                        sin_lat1 * sin_lat2 + cos_lat1 * cos_lat2 * cos(delta_lon))\n",
    "    return delta_sigma\n",
    "\n",
    "\n",
    "def calculate_triangle_spherical_excess(lon1, lat1, lon2, lat2, lon3, lat3):\n",
    "    \"\"\"Calculate the spherical excess of a triangle on the surface of the sphere.\"\"\"\n",
    "    a = great_circle_distance(lon1, lat1, lon2, lat2)\n",
    "    b = great_circle_distance(lon2, lat2, lon3, lat3)\n",
    "    c = great_circle_distance(lon3, lat3, lon1, lat1)\n",
    "    s = (a + b + c) / 2\n",
    "    return 2 * atan2(sqrt(abs(s * (s - a) * (s - b) * (s - c))), sqrt((s - a) * (s - b) * (s - c) * s))\n",
    "\n",
    "\n",
    "def calculate_polygon_spherical_excess(polygons):\n",
    "    \"\"\"Calculate the spherical excess of a GeoDataFrame of polygons.\"\"\"\n",
    "    projected = polygons.to_crs(epsg=4326)\n",
    "    spherical_excess = 0\n",
    "    for polygon in projected.geometry:\n",
    "        if polygon.geom_type == 'Polygon':\n",
    "            spherical_excess += calculate_polygon_spherical_excess(polygon)\n",
    "        elif polygon.geom_type == 'MultiPolygon':\n",
    "            for subpolygon in polygon:\n",
    "                spherical_excess += calculate_polygon_spherical_excess(subpolygon)\n",
    "    return spherical_excess\n",
    "\n",
    "\n",
    "# define the function to estimate the land_area\n",
    "def estimate_land_area(polygons):\n",
    "    \"\"\"Estimate the land area of a GeoDataFrame of polygons using the Monte Carlo method.\"\"\"\n",
    "    land_area = get_land_area(polygons)\n",
    "    if land_area < THRESHOLD_AREA:\n",
    "        return land_area  # Direct calculation for small areas\n",
    "    elif land_area < 10 * THRESHOLD_AREA:\n",
    "        num_points = MIN_SAMPLE_POINTS\n",
    "    else:\n",
    "        num_points = MAX_SAMPLE_POINTS\n",
    "    points = generate_sample_points(polygons, num_points)\n",
    "    land_points = sum(1 for lon, lat in points if polygons.contains(gpd.points_from_xy([lon], [lat])).any())\n",
    "    area_factor = land_points / num_points\n",
    "    return land_area / area_factor\n",
    "\n",
    "#main method\n"
   ]
  },
  {
   "cell_type": "code",
   "execution_count": 5,
   "id": "57dd254a",
   "metadata": {},
   "outputs": [
    {
     "name": "stdout",
     "output_type": "stream",
     "text": [
      "Enter the name of a country: KEN\n",
      "The estimated land area of KEN is 590855.83 km^2\n"
     ]
    },
    {
     "data": {
      "image/png": "[encoded data removed]",
      "text/plain": [
       "<Figure size 432x288 with 1 Axes>"
      ]
     },
     "metadata": {
      "needs_background": "light"
     },
     "output_type": "display_data"
    }
   ],
   "source": [
    "def main():\n",
    "    # Get country name input from user\n",
    "    country_name = input('Enter the name of a country: ')\n",
    "\n",
    "    # Download and extract shapefile for the country\n",
    "    foldername = get_country_shapefile(country_name)\n",
    "\n",
    "    # Read polygons from shapefile and calculate land area\n",
    "    polygons = gpd.read_file(foldername)\n",
    "    land_area = estimate_land_area(polygons)\n",
    "\n",
    "    # Display results\n",
    "    print(f'The estimated land area of {country_name} is {land_area:.2f} km^2')\n",
    "    ax = polygons.plot(alpha=0.5, edgecolor='black')\n",
    "    ax.set_title(country_name)\n",
    "    plt.show()\n",
    "\n",
    "if __name__ == '__main__':\n",
    "    main()"
   ]
  },
  {
   "cell_type": "code",
   "execution_count": null,
   "id": "2e590795",
   "metadata": {},
   "outputs": [],
   "source": []
  }
 ],
 "metadata": {
  "kernelspec": {
   "display_name": "Python 3 (ipykernel)",
   "language": "python",
   "name": "python3"
  },
  "language_info": {
   "codemirror_mode": {
    "name": "ipython",
    "version": 3
   },
   "file_extension": ".py",
   "mimetype": "text/x-python",
   "name": "python",
   "nbconvert_exporter": "python",
   "pygments_lexer": "ipython3",
   "version": "3.9.12"
  }
 },
 "nbformat": 4,
 "nbformat_minor": 5
}
